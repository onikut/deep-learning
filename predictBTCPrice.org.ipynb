{
 "cells": [
  {
   "cell_type": "code",
   "execution_count": 1,
   "metadata": {},
   "outputs": [
    {
     "name": "stderr",
     "output_type": "stream",
     "text": [
      "/Users/onikut/.pyenv/versions/3.6.4/lib/python3.6/site-packages/ipykernel_launcher.py:26: FutureWarning: pd.rolling_mean is deprecated for Series and will be removed in a future version, replace with \n",
      "\tSeries.rolling(window=288,center=False).mean()\n",
      "/Users/onikut/.pyenv/versions/3.6.4/lib/python3.6/site-packages/ipykernel_launcher.py:28: FutureWarning: pd.rolling_mean is deprecated for Series and will be removed in a future version, replace with \n",
      "\tSeries.rolling(window=1440,center=False).mean()\n"
     ]
    },
    {
     "data": {
      "text/plain": [
       "<matplotlib.figure.Figure at 0x107578438>"
      ]
     },
     "metadata": {},
     "output_type": "display_data"
    }
   ],
   "source": [
    "# Referred to the following blog\n",
    "# https://qiita.com/yoshizaki_kkgk/items/79f4056901dd9c059afb\n",
    "\n",
    "import time\n",
    "import poloniex\n",
    "import pandas as pd\n",
    "from pandas import Series\n",
    "import matplotlib.pyplot as plt\n",
    "from matplotlib.pylab import rcParams\n",
    "import seaborn as sns\n",
    "rcParams['figure.figsize'] = 15, 6\n",
    "\n",
    "# poloniex APIの準備\n",
    "polo = poloniex.Poloniex()\n",
    "\n",
    "# 5分間隔（サンプリング間隔300秒）で100日分読み込む\n",
    "chart_data = polo.returnChartData('BTC_ETH', period=300, start=time.time()-polo.DAY*100, end=time.time())\n",
    "#print(chart_data)\n",
    "\n",
    "# pandasにデータの取り込み\n",
    "df = pd.DataFrame(chart_data)\n",
    "# df.head(10)\n",
    "# df['close']\n",
    "\n",
    "# 短期線：窓幅1日（5分×12×24）\n",
    "data_s = pd.rolling_mean(df['close'], 12 * 24) \n",
    "# 長期線：窓幅5日（5分×12×24×5）\n",
    "data_l = pd.rolling_mean(df['close'], 12 * 24 * 5)\n",
    "\n",
    "# 短期線と長期線もプロット\n",
    "plt.plot(df['close'], color='#7f8c8d')\n",
    "plt.plot(data_s, color='#f1c40f')  # 短期線\n",
    "plt.plot(data_l, color='#2980b9')  # 長期線\n",
    "plt.show()"
   ]
  },
  {
   "cell_type": "code",
   "execution_count": 2,
   "metadata": {},
   "outputs": [
    {
     "name": "stderr",
     "output_type": "stream",
     "text": [
      "/Users/onikut/.pyenv/versions/3.6.4/lib/python3.6/site-packages/chainer/_environment_check.py:38: UserWarning: Accelerate has been detected as a NumPy backend library.\n",
      "vecLib, which is a part of Accelerate, is known not to work correctly with Chainer.\n",
      "We recommend using other BLAS libraries such as OpenBLAS.\n",
      "For details of the issue, please see\n",
      "https://docs.chainer.org/en/stable/tips.html#mnist-example-does-not-converge-in-cpu-mode-on-mac-os-x.\n",
      "\n",
      "Also note that Chainer does not officially support Mac OS X.\n",
      "Please use it at your own risk.\n",
      "\n",
      "  ''')  # NOQA\n"
     ]
    }
   ],
   "source": [
    "import chainer\n",
    "import chainer.links as L\n",
    "import chainer.functions as F\n",
    "from chainer import Chain, Variable, datasets, optimizers\n",
    "from chainer import report, training\n",
    "from chainer.training import extensions"
   ]
  },
  {
   "cell_type": "code",
   "execution_count": 3,
   "metadata": {},
   "outputs": [],
   "source": [
    "# 線形代数の演算でよく使うnumpyの読み込み\n",
    "import numpy as np\n",
    "\n",
    "# API経由では文字列（String型）として受け取るため、float型に変換しておく\n",
    "# また、Chainerではfloat32を推奨しているため、こちらに合わせておく\n",
    "data = df['close'].astype(np.float32)\n",
    "#data = df['close']\n",
    "\n",
    "# データを入力変数xと出力変数tに切り分け\n",
    "x, t = [], []\n",
    "N = len(data)\n",
    "M = 30 # 入力変数の数：直近30サンプルを使用\n",
    "for n in range(M, N):\n",
    "    # 入力変数と出力変数の切り分け\n",
    "    _x = data[n-M: n] # 入力変数\n",
    "    _t = data[n] # 出力変数\n",
    "    # 計算用のリスト(x, t)に追加していく\n",
    "    x.append(_x)\n",
    "    t.append(_t)\n",
    "    \n",
    "# numpyの形式に変換する（何かと便利なため）\n",
    "x = np.array(x)\n",
    "t = np.array(t).reshape(len(t), 1)  \n",
    "\n",
    "# 70%を訓練用、30%を検証用\n",
    "N_train = int(N * 0.7)\n",
    "x_train, x_test = x[:N_train], x[N_train:]\n",
    "t_train, t_test = t[:N_train], t[N_train:]\n",
    "\n",
    "# PFNの開発者推奨の方法\n",
    "train = list(zip(x_train, t_train))\n",
    "test  = list(zip(x_test,  t_test))\n",
    "t_train, t_test = t[:N_train], t[N_train:]"
   ]
  },
  {
   "cell_type": "code",
   "execution_count": 4,
   "metadata": {},
   "outputs": [],
   "source": [
    "class LSTM(Chain):\n",
    "    # モデルの構造を明記\n",
    "    def __init__(self, n_units, n_output):\n",
    "        super().__init__()\n",
    "        with self.init_scope():\n",
    "            self.l1 = L.LSTM(None, n_units) # LSTMの層を追加\n",
    "            self.l2 = L.Linear(None, n_output)\n",
    "\n",
    "    # LSTM内で保持する値をリセット\n",
    "    def reset_state(self):\n",
    "        self.l1.reset_state()\n",
    "\n",
    "    # 損失関数の計算\n",
    "    def __call__(self, x, t, train=True):\n",
    "        y = self.predict(x, train)\n",
    "        loss = F.mean_squared_error(y, t)\n",
    "        if train:\n",
    "            report({'loss': loss}, self)\n",
    "        return loss\n",
    "\n",
    "    # 順伝播の計算\n",
    "    def predict(self, x, train=False):\n",
    "        l1 = self.l1(x)\n",
    "        h2 = self.l2(h1)\n",
    "        return h2"
   ]
  },
  {
   "cell_type": "code",
   "execution_count": 5,
   "metadata": {},
   "outputs": [],
   "source": [
    "class LSTMUpdater(training.StandardUpdater):\n",
    "    def __init__(self, data_iter, optimizer, device=None):\n",
    "        super(LSTMUpdater, self).__init__(data_iter, optimizer, device=None)\n",
    "        self.device = device\n",
    "\n",
    "    def update_core(self):\n",
    "        data_iter = self.get_iterator(\"main\")\n",
    "        optimizer = self.get_optimizer(\"main\")\n",
    "\n",
    "        batch = data_iter.__next__()\n",
    "        x_batch, y_batch = chainer.dataset.concat_examples(batch, self.device)\n",
    "\n",
    "        # ↓ ここで reset_state() を実行できるようにしている\n",
    "        optimizer.target.reset_state()\n",
    "\n",
    "        # その他は時系列系の更新と同じ\n",
    "        optimizer.target.cleargrads()\n",
    "        loss = optimizer.target(x_batch, y_batch)\n",
    "        loss.backward()\n",
    "        # 時系列ではunchain_backward()によって計算効率が上がるそう\n",
    "        loss.unchain_backward()\n",
    "        optimizer.update()"
   ]
  },
  {
   "cell_type": "code",
   "execution_count": 6,
   "metadata": {},
   "outputs": [],
   "source": [
    "class LSTM(Chain):\n",
    "    def __init__(self, n_units, n_output):\n",
    "        super().__init__()\n",
    "        with self.init_scope():\n",
    "            self.l1 = L.LSTM(None, n_units)\n",
    "            self.l2 = L.Linear(None, n_output)\n",
    "\n",
    "    def reset_state(self):\n",
    "        self.l1.reset_state()\n",
    "\n",
    "    def __call__(self, x, t, train=True):\n",
    "        y = self.predict(x, train)\n",
    "        loss = F.mean_squared_error(y, t)\n",
    "        if train:\n",
    "            report({'loss': loss}, self)\n",
    "        return loss\n",
    "\n",
    "    def predict(self, x, train=False):\n",
    "        # ドロップアウトの追加（訓練時のみ使うようにする）\n",
    "        if train:\n",
    "            h1 = F.dropout(self.l1(x), ratio=0.05)\n",
    "        else:\n",
    "            h1 = self.l1(x)\n",
    "        h2 = self.l2(h1)\n",
    "        return h2"
   ]
  },
  {
   "cell_type": "code",
   "execution_count": 7,
   "metadata": {},
   "outputs": [
    {
     "name": "stdout",
     "output_type": "stream",
     "text": [
      "epoch       main/loss   validation/main/loss  elapsed_time\n",
      "\u001b[J1           1.56548e-05  0.137864              2.38506       \n",
      "\u001b[J2           3.23841e-06  0.105073              5.45507       \n",
      "\u001b[J3           2.08704e-06  0.062658              8.14319       \n",
      "\u001b[J4           1.67284e-06  0.0593442             10.8445       \n",
      "\u001b[J5           1.4499e-06  0.0675732             13.1058       \n",
      "\u001b[J6           1.33648e-06  0.0673298             15.3132       \n",
      "\u001b[J7           1.24352e-06  0.0610874             17.8438       \n",
      "\u001b[J8           1.16839e-06  0.0665154             20.3658       \n",
      "\u001b[J9           1.19685e-06  0.0593103             22.6895       \n",
      "\u001b[J10          1.09939e-06  0.0575995             25.414        \n",
      "\u001b[J11          1.16054e-06  0.0620204             27.6534       \n",
      "\u001b[J12          1.11103e-06  0.0518352             30.0824       \n",
      "\u001b[J13          1.0646e-06  0.0539182             33.1186       \n",
      "\u001b[J14          1.06315e-06  0.0553028             35.6775       \n",
      "\u001b[J15          1.05932e-06  0.0572193             38.4105       \n",
      "\u001b[J16          1.05559e-06  0.0498069             41.0345       \n",
      "\u001b[J17          1.09955e-06  0.0527721             43.8557       \n",
      "\u001b[J18          1.04735e-06  0.048472              46.1707       \n",
      "\u001b[J19          1.10771e-06  0.0504924             48.538        \n",
      "\u001b[J20          1.05773e-06  0.04515               50.7963       \n",
      "\u001b[J21          1.02331e-06  0.0504871             52.9749       \n",
      "\u001b[J22          1.05725e-06  0.0495661             55.1772       \n",
      "\u001b[J23          9.97741e-07  0.0470983             57.408        \n",
      "\u001b[J24          1.00458e-06  0.0476673             60.3867       \n",
      "\u001b[J25          9.41378e-07  0.0474684             63.3711       \n",
      "\u001b[J26          9.81762e-07  0.0462376             65.7916       \n",
      "\u001b[J27          1.08045e-06  0.0409136             68.7238       \n",
      "\u001b[J28          1.01124e-06  0.0406268             71.3918       \n",
      "\u001b[J29          9.91123e-07  0.0396902             74.1201       \n",
      "\u001b[J30          9.78954e-07  0.0435449             76.6851       \n"
     ]
    }
   ],
   "source": [
    "# chainer用のデータセットでメモリに乗る程度であれば、list(zip(...))を推奨\n",
    "# ↑ PFNの開発者推奨の方法\n",
    "train = list(zip(x_train, t_train))\n",
    "test  = list(zip(x_test,  t_test))\n",
    "\n",
    "# 再現性確保\n",
    "np.random.seed(1)\n",
    "\n",
    "# モデルの宣言\n",
    "model = LSTM(30, 1)\n",
    "\n",
    "# optimizerの定義\n",
    "optimizer = optimizers.Adam()  # 最適化アルゴリズムはAdamを使用\n",
    "optimizer.setup(model)\n",
    "\n",
    "# iteratorの定義\n",
    "batchsize = 20\n",
    "train_iter = chainer.iterators.SerialIterator(train, batchsize)\n",
    "test_iter = chainer.iterators.SerialIterator(test, batchsize, repeat=False, shuffle=False)\n",
    "\n",
    "# updaterの定義\n",
    "updater = LSTMUpdater(train_iter, optimizer)\n",
    "\n",
    "# trainerの定義\n",
    "epoch = 30\n",
    "trainer = training.Trainer(updater, (epoch, 'epoch'), out='result')\n",
    "# trainerの拡張機能\n",
    "trainer.extend(extensions.Evaluator(test_iter, model))\n",
    "trainer.extend(extensions.LogReport(trigger=(1,'epoch')))\n",
    "\n",
    "# 1エポックごとに、trainデータに対するlossと、testデータに対するlossを出力させる\n",
    "trainer.extend(extensions.PrintReport(['epoch', 'main/loss', 'validation/main/loss', 'elapsed_time']), trigger=(1, 'epoch'))\n",
    "\n",
    "trainer.run()"
   ]
  },
  {
   "cell_type": "code",
   "execution_count": 8,
   "metadata": {},
   "outputs": [
    {
     "data": {
      "image/png": "[encoded data removed]",
      "text/plain": [
       "<matplotlib.figure.Figure at 0x10a9f9c18>"
      ]
     },
     "metadata": {},
     "output_type": "display_data"
    },
    {
     "data": {
      "image/png": "[encoded data removed]",
      "text/plain": [
       "<matplotlib.figure.Figure at 0x1076754e0>"
      ]
     },
     "metadata": {},
     "output_type": "display_data"
    }
   ],
   "source": [
    "# 予測値の計算\n",
    "model.reset_state()\n",
    "y_train = model.predict(Variable(x_train)).data\n",
    "\n",
    "# プロット\n",
    "plt.plot(t_train, color='#2980b9') # 実測値は青色\n",
    "plt.plot(y_train, color='#f39c12') # 予測値はオレンジ\n",
    "plt.show()\n",
    "\n",
    "# 予測値の計算\n",
    "model.reset_state()\n",
    "y_test = model.predict(Variable(x_test)).data\n",
    "\n",
    "# プロット\n",
    "plt.plot(t_test, color='#2980b9')  # 実測値は青色\n",
    "plt.plot(y_test, color='#f39c12')  # 予測値はオレンジ\n",
    "plt.show()"
   ]
  },
  {
   "cell_type": "code",
   "execution_count": null,
   "metadata": {},
   "outputs": [],
   "source": []
  }
 ],
 "metadata": {
  "anaconda-cloud": {},
  "kernelspec": {
   "display_name": "Python 3",
   "language": "python",
   "name": "python3"
  },
  "language_info": {
   "codemirror_mode": {
    "name": "ipython",
    "version": 3
   },
   "file_extension": ".py",
   "mimetype": "text/x-python",
   "name": "python",
   "nbconvert_exporter": "python",
   "pygments_lexer": "ipython3",
   "version": "3.6.4"
  }
 },
 "nbformat": 4,
 "nbformat_minor": 1
}
